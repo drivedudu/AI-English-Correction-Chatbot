{
 "cells": [
  {
   "cell_type": "markdown",
   "id": "48c60b66-7b38-4e30-a7f0-dc37873d8f13",
   "metadata": {
    "id": "48c60b66-7b38-4e30-a7f0-dc37873d8f13"
   },
   "source": [
    "# Working with the GPT API"
   ]
  },
  {
   "cell_type": "markdown",
   "id": "7429d764-4d64-46f7-acd0-8d627d461db4",
   "metadata": {
    "id": "7429d764-4d64-46f7-acd0-8d627d461db4"
   },
   "source": [
    "## Getting an API KEY"
   ]
  },
  {
   "cell_type": "code",
   "execution_count": null,
   "id": "73da737a-e8a0-4784-8493-c5a10c1ba7e6",
   "metadata": {
    "id": "73da737a-e8a0-4784-8493-c5a10c1ba7e6"
   },
   "outputs": [],
   "source": [
    "import openai\n",
    "api_key = open('gpt.txt', 'r').read().strip('\\n')\n",
    "\n",
    "# load and set our key\n",
    "openai.api_key = api_key"
   ]
  },
  {
   "cell_type": "markdown",
   "id": "44b193c4-956a-42aa-b00b-23ddb07865bb",
   "metadata": {
    "id": "44b193c4-956a-42aa-b00b-23ddb07865bb"
   },
   "source": [
    "# Creating a chatbot with gradio for front-end UI"
   ]
  },
  {
   "cell_type": "markdown",
   "id": "93819469-c55a-488f-b4fa-6d5e21e597a8",
   "metadata": {
    "id": "93819469-c55a-488f-b4fa-6d5e21e597a8"
   },
   "source": [
    "3. Import the required libraries"
   ]
  },
  {
   "cell_type": "code",
   "execution_count": 21,
   "id": "49384515-5e93-4f89-acbb-884154a8768a",
   "metadata": {
    "id": "49384515-5e93-4f89-acbb-884154a8768a"
   },
   "outputs": [],
   "source": [
    "import gradio as gr\n",
    "\n",
    "import openai\n",
    "api_key = open('gpt.txt', 'r').read().strip('\\n')\n",
    "\n",
    "# load and set our key\n",
    "openai.api_key = api_key"
   ]
  },
  {
   "cell_type": "code",
   "execution_count": 20,
   "id": "7cc0e101-8dbc-4673-b3fd-b012ad16eb0d",
   "metadata": {
    "id": "7cc0e101-8dbc-4673-b3fd-b012ad16eb0d"
   },
   "outputs": [],
   "source": [
    "# Lets rewrite the gpt_response function to include possible parameters\n",
    "\n",
    "def gpt_response(inp, message_history, **params):\n",
    "    # We save the user's input\n",
    "    message_history.append({\"role\": \"user\", \"content\": f\"{inp}\"})\n",
    "\n",
    "    # Generate a response from the chatbot model\n",
    "    completion_params = {\n",
    "        \"model\": \"gpt-3.5-turbo\",\n",
    "        \"messages\": message_history,\n",
    "        **params  # Include additional parameters\n",
    "    }\n",
    "\n",
    "    completion = openai.ChatCompletion.create(**completion_params) # Include additional parameters\n",
    "\n",
    "    # We save the assistant response\n",
    "    message_history.append({\"role\": \"assistant\", \"content\": f\"{completion.choices[0].message.content}\"})\n",
    "\n",
    "    return message_history"
   ]
  },
  {
   "cell_type": "markdown",
   "id": "a3520acd-ed0e-47ee-b213-9b45142774e6",
   "metadata": {
    "id": "a3520acd-ed0e-47ee-b213-9b45142774e6"
   },
   "source": [
    "4. Define a function that generates chatbot responses based on user input"
   ]
  },
  {
   "cell_type": "code",
   "execution_count": 23,
   "id": "ffd0385d-822a-42ab-8f8d-067ae2cc09c7",
   "metadata": {
    "id": "ffd0385d-822a-42ab-8f8d-067ae2cc09c7"
   },
   "outputs": [],
   "source": [
    "# Set up the conversation history with user and assistant messages\n",
    "\n",
    "message_history = [{\"role\": \"system\",\"content\": \"You will be provided with statements, and your task is to convert them to standard English.\"},\n",
    "                   {\"role\": \"assistant\", \"content\": f\"OK\"}]\n",
    "\n",
    "def gpt_response_ui(inp):\n",
    "    global message_history\n",
    "\n",
    "    message_history = gpt_response(inp, message_history, max_tokens = 50)\n",
    "\n",
    "    # Get pairs (as tuples) of msg[\"content\"] from message history,representing one exchange between the user and the chatbot, skipping the pre-prompt\n",
    "    response = [(message_history[i][\"content\"], message_history[i+1][\"content\"]) for i in range(2, len(message_history)-1, 2)]  # convert to tuples of list\n",
    "    return response"
   ]
  },
  {
   "cell_type": "markdown",
   "id": "c42101a7-55bc-4052-9a5a-368d2472579d",
   "metadata": {
    "id": "c42101a7-55bc-4052-9a5a-368d2472579d"
   },
   "source": [
    "5. Define the Gradio interface"
   ]
  },
  {
   "cell_type": "code",
   "execution_count": 24,
   "id": "060004ad-f547-48a4-8d0e-b52ca38d957a",
   "metadata": {
    "id": "060004ad-f547-48a4-8d0e-b52ca38d957a"
   },
   "outputs": [],
   "source": [
    "with gr.Blocks() as demo: #creates a Gradio interface\n",
    "\n",
    "    chatbot = gr.Chatbot() #creates a chatbot instance\n",
    "\n",
    "    with gr.Row(): #creates a row within the Gradio interface to contain components\n",
    "        txt = gr.Textbox(show_label=False, placeholder=\"Enter text and press enter\") #text input field\n",
    "        # `show_label=False` parameter hides the label associated with the textbox\n",
    "\n",
    "    txt.submit(gpt_response_ui, txt, chatbot) #sets the submit action to the `gpt_response` function\n",
    "    txt.submit(lambda :\"\", None, txt) #this clears the textbox when the user submits their input"
   ]
  },
  {
   "cell_type": "markdown",
   "id": "a68df5c2-c3e2-41a8-9b7b-ca6fdf4d600b",
   "metadata": {
    "id": "a68df5c2-c3e2-41a8-9b7b-ca6fdf4d600b"
   },
   "source": [
    "6. Run the Gradio interface"
   ]
  },
  {
   "cell_type": "code",
   "execution_count": null,
   "id": "3398916f-bb1e-4eda-b9f2-73ceba2695e3",
   "metadata": {
    "id": "3398916f-bb1e-4eda-b9f2-73ceba2695e3"
   },
   "outputs": [],
   "source": [
    "demo.launch() #To create a public link, set `share=True` in `launch()`."
   ]
  },
  {
   "cell_type": "code",
   "execution_count": null,
   "id": "10e11b98",
   "metadata": {},
   "outputs": [],
   "source": [
    "demo.close()"
   ]
  }
 ],
 "metadata": {
  "colab": {
   "provenance": []
  },
  "kernelspec": {
   "display_name": "Python 3 (ipykernel)",
   "language": "python",
   "name": "python3"
  },
  "language_info": {
   "codemirror_mode": {
    "name": "ipython",
    "version": 3
   },
   "file_extension": ".py",
   "mimetype": "text/x-python",
   "name": "python",
   "nbconvert_exporter": "python",
   "pygments_lexer": "ipython3",
   "version": "3.11.7"
  },
  "toc": {
   "base_numbering": 1,
   "nav_menu": {},
   "number_sections": true,
   "sideBar": true,
   "skip_h1_title": false,
   "title_cell": "Table of Contents",
   "title_sidebar": "Contents",
   "toc_cell": true,
   "toc_position": {},
   "toc_section_display": true,
   "toc_window_display": false
  }
 },
 "nbformat": 4,
 "nbformat_minor": 5
}
